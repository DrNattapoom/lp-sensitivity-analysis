{
 "cells": [
  {
   "attachments": {},
   "cell_type": "markdown",
   "metadata": {},
   "source": [
    "# Linear Programming: Sensitivity Analysis"
   ]
  },
  {
   "attachments": {},
   "cell_type": "markdown",
   "metadata": {},
   "source": [
    "### Import dependencies"
   ]
  },
  {
   "cell_type": "code",
   "execution_count": 1,
   "metadata": {},
   "outputs": [],
   "source": [
    "from docplex.mp.model import Model\n",
    "from docplex.mp.relax_linear import LinearRelaxer\n",
    "from utils.answer_report import AnswerReport\n",
    "from utils.sensitivity_report import SensitivityReport"
   ]
  },
  {
   "attachments": {},
   "cell_type": "markdown",
   "metadata": {},
   "source": [
    "### Sample Scenario"
   ]
  },
  {
   "attachments": {},
   "cell_type": "markdown",
   "metadata": {},
   "source": [
    "PRODUCTION. Pacific Aerospace is one of four subcontractors producing computer-controlled electrical switching assemblies for the proposed NASA space station. Pacific has the capability to produce three types of systems in-house: the Pacific Aerospace Delta, Omega, and Theta. NASA needs hundreds of all three systems and will purchase whatever Pacific chooses to produce.\n",
    "\n",
    "All assemblies contain the tiny modified X70686 computer chip that cost Pacific \\$500 to manufacture. Seven such chips are available daily. Other materials needed for the manufacture of the assembly cost \\$200 for the Delta, \\$400 for the Omega, and \\$300 for the Theta, but they are not considered in short enough supply to restrict production. \n",
    "\n",
    "Each assembly must pass through a production center; it is then subjected to rigorous testing and quality control checks. The following table gives the relevant data for each assembly.\n",
    "\n",
    "|                         | Delta          | Omega          | Theta          | Daily Availability |\n",
    "|-------------------------|----------------|----------------|----------------|--------------------|\n",
    "| Contract price          | $1500          | $1800          | $1400          | -                  |\n",
    "|    X70686 Chip          | $500           | $500           | $500           | 7                  |\n",
    "|    Other material/labor | $200           | $400           | $600           |                    |\n",
    "|       Net profit        | $800           | $900           | $600           | -                  |\n",
    "| Production (hrs.)       | 2              | 1              | 1              | 8                  |\n",
    "| Quality checks (hrs.)   | $1\\frac{1}{3}$ | $2\\frac{2}{3}$ | $1\\frac{1}{3}$ | 8                  |\n"
   ]
  },
  {
   "attachments": {},
   "cell_type": "markdown",
   "metadata": {},
   "source": [
    "a. Formulate and solve for the optimal daily production schedule. Note that no Omega systems would be produced. Why not?"
   ]
  },
  {
   "attachments": {},
   "cell_type": "markdown",
   "metadata": {},
   "source": [
    "Let $x_1$ be the number of Delta systems to produce per day, \\\n",
    "$\\quad\\,\\, x_2$ be the number of Omega systems to produce per day, and \\\n",
    "$\\quad\\,\\, x_3$ be the number of Theta systems to produce per day\n",
    "\n",
    "Then, from the given information, we can formulate the linear programming problem as follows.\n",
    "\n",
    "\\begin{align*}\n",
    "\\text{max} \n",
    "&\\quad z = 800x_1 + 900x_2 + 600x_3 \\\\\n",
    "\\text{subject to} \\\\\n",
    "& x_1 + x_2 + x_3 \\leqslant 7 \\\\\n",
    "& 2x_1 + x_2 + x_3 \\leqslant 8 \\\\\n",
    "& 4x_1 + 8x_2 + 4x_3 \\leqslant 24 \\\\\n",
    "& x_i \\geqslant 0 \\quad \\forall i \\in \\{1, 2, 3\\} \\\\\n",
    "& x_i \\in \\mathbb{Z} \\quad \\forall i \\in \\{1, 2, 3\\}\n",
    "\\end{align*}"
   ]
  },
  {
   "cell_type": "code",
   "execution_count": 2,
   "metadata": {},
   "outputs": [],
   "source": [
    "## define LP problem\n",
    "\n",
    "# create model\n",
    "model = Model(name = 'Pacific Aerospace Production for NASA')\n",
    "\n",
    "# define decision variables\n",
    "x_1 = model.integer_var(name = 'x_1', lb = 0)\n",
    "x_2 = model.integer_var(name = 'x_2', lb = 0)\n",
    "x_3 = model.integer_var(name = 'x_3', lb = 0)\n",
    "\n",
    "# set objective function\n",
    "z = model.set_objective('max', 800*x_1 + 900*x_2 + 600*x_3)\n",
    "\n",
    "# add constraints\n",
    "c_1 = model.add_constraint(x_1 + x_2 + x_3 <= 7, ctname = 'c_1')\n",
    "c_2 = model.add_constraint(2*x_1 + x_2 + x_3 <= 8, ctname = 'c_2')\n",
    "c_3 = model.add_constraint(4*x_1 + 8*x_2 + 4*x_3 <= 24, ctname = 'c_3')"
   ]
  },
  {
   "cell_type": "code",
   "execution_count": 3,
   "metadata": {},
   "outputs": [
    {
     "data": {
      "text/plain": [
       "([2.0, 0, 4.0], 4000.0)"
      ]
     },
     "execution_count": 3,
     "metadata": {},
     "output_type": "execute_result"
    }
   ],
   "source": [
    "## solve LP problem\n",
    "\n",
    "# get solution\n",
    "solution = model.solve()\n",
    "\n",
    "# show optimal solution and optimal value\n",
    "solution.get_values(model.iter_variables()), solution.get_objective_value()"
   ]
  },
  {
   "attachments": {},
   "cell_type": "markdown",
   "metadata": {},
   "source": [
    "### Answer Report"
   ]
  },
  {
   "cell_type": "code",
   "execution_count": 4,
   "metadata": {},
   "outputs": [],
   "source": [
    "# get answer report\n",
    "answer_report = AnswerReport(model)"
   ]
  },
  {
   "cell_type": "code",
   "execution_count": 5,
   "metadata": {},
   "outputs": [
    {
     "data": {
      "text/html": [
       "<div>\n",
       "<style scoped>\n",
       "    .dataframe tbody tr th:only-of-type {\n",
       "        vertical-align: middle;\n",
       "    }\n",
       "\n",
       "    .dataframe tbody tr th {\n",
       "        vertical-align: top;\n",
       "    }\n",
       "\n",
       "    .dataframe thead th {\n",
       "        text-align: right;\n",
       "    }\n",
       "</style>\n",
       "<table border=\"1\" class=\"dataframe\">\n",
       "  <thead>\n",
       "    <tr style=\"text-align: right;\">\n",
       "      <th></th>\n",
       "      <th>Final Value</th>\n",
       "      <th>Variable Type</th>\n",
       "    </tr>\n",
       "    <tr>\n",
       "      <th>Name</th>\n",
       "      <th></th>\n",
       "      <th></th>\n",
       "    </tr>\n",
       "  </thead>\n",
       "  <tbody>\n",
       "    <tr>\n",
       "      <th>x_1</th>\n",
       "      <td>2.0</td>\n",
       "      <td>integer</td>\n",
       "    </tr>\n",
       "    <tr>\n",
       "      <th>x_2</th>\n",
       "      <td>0.0</td>\n",
       "      <td>integer</td>\n",
       "    </tr>\n",
       "    <tr>\n",
       "      <th>x_3</th>\n",
       "      <td>4.0</td>\n",
       "      <td>integer</td>\n",
       "    </tr>\n",
       "  </tbody>\n",
       "</table>\n",
       "</div>"
      ],
      "text/plain": [
       "      Final Value Variable Type\n",
       "Name                           \n",
       "x_1           2.0       integer\n",
       "x_2           0.0       integer\n",
       "x_3           4.0       integer"
      ]
     },
     "execution_count": 5,
     "metadata": {},
     "output_type": "execute_result"
    }
   ],
   "source": [
    "# show answer report for decision variables\n",
    "answer_report.decision_variables()"
   ]
  },
  {
   "cell_type": "code",
   "execution_count": 6,
   "metadata": {},
   "outputs": [
    {
     "data": {
      "text/html": [
       "<div>\n",
       "<style scoped>\n",
       "    .dataframe tbody tr th:only-of-type {\n",
       "        vertical-align: middle;\n",
       "    }\n",
       "\n",
       "    .dataframe tbody tr th {\n",
       "        vertical-align: top;\n",
       "    }\n",
       "\n",
       "    .dataframe thead th {\n",
       "        text-align: right;\n",
       "    }\n",
       "</style>\n",
       "<table border=\"1\" class=\"dataframe\">\n",
       "  <thead>\n",
       "    <tr style=\"text-align: right;\">\n",
       "      <th></th>\n",
       "      <th>Status</th>\n",
       "      <th>Slack</th>\n",
       "    </tr>\n",
       "    <tr>\n",
       "      <th>Name</th>\n",
       "      <th></th>\n",
       "      <th></th>\n",
       "    </tr>\n",
       "  </thead>\n",
       "  <tbody>\n",
       "    <tr>\n",
       "      <th>c_1</th>\n",
       "      <td>non-binding</td>\n",
       "      <td>1.0</td>\n",
       "    </tr>\n",
       "    <tr>\n",
       "      <th>c_2</th>\n",
       "      <td>binding</td>\n",
       "      <td>0.0</td>\n",
       "    </tr>\n",
       "    <tr>\n",
       "      <th>c_3</th>\n",
       "      <td>binding</td>\n",
       "      <td>0.0</td>\n",
       "    </tr>\n",
       "  </tbody>\n",
       "</table>\n",
       "</div>"
      ],
      "text/plain": [
       "           Status  Slack\n",
       "Name                    \n",
       "c_1   non-binding    1.0\n",
       "c_2       binding    0.0\n",
       "c_3       binding    0.0"
      ]
     },
     "execution_count": 6,
     "metadata": {},
     "output_type": "execute_result"
    }
   ],
   "source": [
    "# show answer report for constraints\n",
    "answer_report.constraints()"
   ]
  },
  {
   "attachments": {},
   "cell_type": "markdown",
   "metadata": {},
   "source": [
    "### Sensitivity Report"
   ]
  },
  {
   "cell_type": "code",
   "execution_count": 7,
   "metadata": {},
   "outputs": [
    {
     "data": {
      "text/plain": [
       "([2.0, 0, 4.0], 4000.0)"
      ]
     },
     "execution_count": 7,
     "metadata": {},
     "output_type": "execute_result"
    }
   ],
   "source": [
    "## relax LP problem\n",
    "\n",
    "# get LP relaxation problem\n",
    "lp_relaxation = LinearRelaxer.make_relaxed_model(model)\n",
    "\n",
    "# get solution of relaxed LP problem\n",
    "solution = lp_relaxation.solve()\n",
    "\n",
    "# show optimal solution and optimal value of relaxed LP problem\n",
    "solution.get_values(lp_relaxation.iter_variables()), solution.get_objective_value()"
   ]
  },
  {
   "cell_type": "code",
   "execution_count": 8,
   "metadata": {},
   "outputs": [],
   "source": [
    "# get sensitivity report of relaxed LP problem\n",
    "sensitivity_report = SensitivityReport(lp_relaxation)"
   ]
  },
  {
   "cell_type": "code",
   "execution_count": 9,
   "metadata": {},
   "outputs": [
    {
     "data": {
      "text/html": [
       "<div>\n",
       "<style scoped>\n",
       "    .dataframe tbody tr th:only-of-type {\n",
       "        vertical-align: middle;\n",
       "    }\n",
       "\n",
       "    .dataframe tbody tr th {\n",
       "        vertical-align: top;\n",
       "    }\n",
       "\n",
       "    .dataframe thead th {\n",
       "        text-align: right;\n",
       "    }\n",
       "</style>\n",
       "<table border=\"1\" class=\"dataframe\">\n",
       "  <thead>\n",
       "    <tr style=\"text-align: right;\">\n",
       "      <th></th>\n",
       "      <th>Final Value</th>\n",
       "      <th>Reduced Cost</th>\n",
       "      <th>Objective Coefficient</th>\n",
       "      <th>Allowable Increase</th>\n",
       "      <th>Allowable Decrease</th>\n",
       "    </tr>\n",
       "    <tr>\n",
       "      <th>Name</th>\n",
       "      <th></th>\n",
       "      <th></th>\n",
       "      <th></th>\n",
       "      <th></th>\n",
       "      <th></th>\n",
       "    </tr>\n",
       "  </thead>\n",
       "  <tbody>\n",
       "    <tr>\n",
       "      <th>x_1</th>\n",
       "      <td>2.0</td>\n",
       "      <td>0.0</td>\n",
       "      <td>800</td>\n",
       "      <td>100.0</td>\n",
       "      <td>200.0</td>\n",
       "    </tr>\n",
       "    <tr>\n",
       "      <th>x_2</th>\n",
       "      <td>0.0</td>\n",
       "      <td>-100.0</td>\n",
       "      <td>900</td>\n",
       "      <td>100.0</td>\n",
       "      <td>1e+20</td>\n",
       "    </tr>\n",
       "    <tr>\n",
       "      <th>x_3</th>\n",
       "      <td>4.0</td>\n",
       "      <td>0.0</td>\n",
       "      <td>600</td>\n",
       "      <td>200.0</td>\n",
       "      <td>33.33333333333337</td>\n",
       "    </tr>\n",
       "  </tbody>\n",
       "</table>\n",
       "</div>"
      ],
      "text/plain": [
       "      Final Value  Reduced Cost  Objective Coefficient  Allowable Increase  \\\n",
       "Name                                                                         \n",
       "x_1           2.0           0.0                    800               100.0   \n",
       "x_2           0.0        -100.0                    900               100.0   \n",
       "x_3           4.0           0.0                    600               200.0   \n",
       "\n",
       "      Allowable Decrease  \n",
       "Name                      \n",
       "x_1                200.0  \n",
       "x_2                1e+20  \n",
       "x_3    33.33333333333337  "
      ]
     },
     "execution_count": 9,
     "metadata": {},
     "output_type": "execute_result"
    }
   ],
   "source": [
    "# show sensitivity report for decision variables\n",
    "sensitivity_report.decision_variables()"
   ]
  },
  {
   "cell_type": "code",
   "execution_count": 10,
   "metadata": {},
   "outputs": [
    {
     "data": {
      "text/html": [
       "<div>\n",
       "<style scoped>\n",
       "    .dataframe tbody tr th:only-of-type {\n",
       "        vertical-align: middle;\n",
       "    }\n",
       "\n",
       "    .dataframe tbody tr th {\n",
       "        vertical-align: top;\n",
       "    }\n",
       "\n",
       "    .dataframe thead th {\n",
       "        text-align: right;\n",
       "    }\n",
       "</style>\n",
       "<table border=\"1\" class=\"dataframe\">\n",
       "  <thead>\n",
       "    <tr style=\"text-align: right;\">\n",
       "      <th></th>\n",
       "      <th>Final Value</th>\n",
       "      <th>Shadow Price</th>\n",
       "      <th>Constraint RHS</th>\n",
       "      <th>Allowable Increase</th>\n",
       "      <th>Allowable Decrease</th>\n",
       "    </tr>\n",
       "    <tr>\n",
       "      <th>Name</th>\n",
       "      <th></th>\n",
       "      <th></th>\n",
       "      <th></th>\n",
       "      <th></th>\n",
       "      <th></th>\n",
       "    </tr>\n",
       "  </thead>\n",
       "  <tbody>\n",
       "    <tr>\n",
       "      <th>c_1</th>\n",
       "      <td>6.0</td>\n",
       "      <td>-0.0</td>\n",
       "      <td>7</td>\n",
       "      <td>1e+20</td>\n",
       "      <td>1.0</td>\n",
       "    </tr>\n",
       "    <tr>\n",
       "      <th>c_2</th>\n",
       "      <td>8.0</td>\n",
       "      <td>200.0</td>\n",
       "      <td>8</td>\n",
       "      <td>4.0</td>\n",
       "      <td>2.0</td>\n",
       "    </tr>\n",
       "    <tr>\n",
       "      <th>c_3</th>\n",
       "      <td>24.0</td>\n",
       "      <td>100.0</td>\n",
       "      <td>24</td>\n",
       "      <td>4.0</td>\n",
       "      <td>8.0</td>\n",
       "    </tr>\n",
       "  </tbody>\n",
       "</table>\n",
       "</div>"
      ],
      "text/plain": [
       "      Final Value  Shadow Price  Constraint RHS  Allowable Increase  \\\n",
       "Name                                                                  \n",
       "c_1           6.0          -0.0               7               1e+20   \n",
       "c_2           8.0         200.0               8                 4.0   \n",
       "c_3          24.0         100.0              24                 4.0   \n",
       "\n",
       "      Allowable Decrease  \n",
       "Name                      \n",
       "c_1                  1.0  \n",
       "c_2                  2.0  \n",
       "c_3                  8.0  "
      ]
     },
     "execution_count": 10,
     "metadata": {},
     "output_type": "execute_result"
    }
   ],
   "source": [
    "# show sensitivity report for constraints\n",
    "sensitivity_report.constraints()"
   ]
  },
  {
   "attachments": {},
   "cell_type": "markdown",
   "metadata": {},
   "source": [
    "After solving the problem, we have the optimal solution $(x^*_1, x^*_2, x^*_3) = (2, 0, 4)$ with the corresponding optimal value of $z^* = 4000$. \n",
    "\n",
    "Hence, the optimal daily production schedule for Pacific is to produce 2 Delta systems and 4 Theta systems, which would result in the optimal net profit of \\$4000.\n",
    "\n",
    "It is worth noting that no Omega systems would be produced. This is because the Omega assembly is not as profitable, compared to the Delta system and the Theta system. \n",
    "\n",
    "Indeed, if we consider a sensitivity report for the decision variables, we can see that the reduced cost of the Omega system is -100. This means if Pacific Aerospace were to include 1 unit of the Omega system in the production, then the daily net profit would be decreased by \\$100.\n",
    "\n",
    "Therefore, in order to maximize the profit, Pacific Aerospace should not produce any Omega system."
   ]
  },
  {
   "attachments": {},
   "cell_type": "markdown",
   "metadata": {},
   "source": [
    "b. What is the minimum contract price that would initiate production of the Omega systems?"
   ]
  },
  {
   "attachments": {},
   "cell_type": "markdown",
   "metadata": {},
   "source": [
    "In order to answer this question, let's consider a sensitivity report for the decision variables."
   ]
  },
  {
   "cell_type": "code",
   "execution_count": 11,
   "metadata": {},
   "outputs": [
    {
     "data": {
      "text/html": [
       "<div>\n",
       "<style scoped>\n",
       "    .dataframe tbody tr th:only-of-type {\n",
       "        vertical-align: middle;\n",
       "    }\n",
       "\n",
       "    .dataframe tbody tr th {\n",
       "        vertical-align: top;\n",
       "    }\n",
       "\n",
       "    .dataframe thead th {\n",
       "        text-align: right;\n",
       "    }\n",
       "</style>\n",
       "<table border=\"1\" class=\"dataframe\">\n",
       "  <thead>\n",
       "    <tr style=\"text-align: right;\">\n",
       "      <th></th>\n",
       "      <th>Final Value</th>\n",
       "      <th>Reduced Cost</th>\n",
       "      <th>Objective Coefficient</th>\n",
       "      <th>Allowable Increase</th>\n",
       "      <th>Allowable Decrease</th>\n",
       "    </tr>\n",
       "    <tr>\n",
       "      <th>Name</th>\n",
       "      <th></th>\n",
       "      <th></th>\n",
       "      <th></th>\n",
       "      <th></th>\n",
       "      <th></th>\n",
       "    </tr>\n",
       "  </thead>\n",
       "  <tbody>\n",
       "    <tr>\n",
       "      <th>x_1</th>\n",
       "      <td>2.0</td>\n",
       "      <td>0.0</td>\n",
       "      <td>800</td>\n",
       "      <td>100.0</td>\n",
       "      <td>200.0</td>\n",
       "    </tr>\n",
       "    <tr>\n",
       "      <th>x_2</th>\n",
       "      <td>0.0</td>\n",
       "      <td>-100.0</td>\n",
       "      <td>900</td>\n",
       "      <td>100.0</td>\n",
       "      <td>1e+20</td>\n",
       "    </tr>\n",
       "    <tr>\n",
       "      <th>x_3</th>\n",
       "      <td>4.0</td>\n",
       "      <td>0.0</td>\n",
       "      <td>600</td>\n",
       "      <td>200.0</td>\n",
       "      <td>33.33333333333337</td>\n",
       "    </tr>\n",
       "  </tbody>\n",
       "</table>\n",
       "</div>"
      ],
      "text/plain": [
       "      Final Value  Reduced Cost  Objective Coefficient  Allowable Increase  \\\n",
       "Name                                                                         \n",
       "x_1           2.0           0.0                    800               100.0   \n",
       "x_2           0.0        -100.0                    900               100.0   \n",
       "x_3           4.0           0.0                    600               200.0   \n",
       "\n",
       "      Allowable Decrease  \n",
       "Name                      \n",
       "x_1                200.0  \n",
       "x_2                1e+20  \n",
       "x_3    33.33333333333337  "
      ]
     },
     "execution_count": 11,
     "metadata": {},
     "output_type": "execute_result"
    }
   ],
   "source": [
    "# show sensitivity report for decision variables\n",
    "sensitivity_report.decision_variables()"
   ]
  },
  {
   "attachments": {},
   "cell_type": "markdown",
   "metadata": {},
   "source": [
    "From the above sensitivity report, it shows that the reduced cost for Omega is -100, which, as mentioned in (a), means that the daily net profit would be decreased by \\$100 if Pacific Aerospace decided to increase the production of Omega systems from 0 to 1 unit.\n",
    "\n",
    "However, alternatively, the reduced cost of the Omega can also be interpreted as the amount by which the unit profit of the Omega would have to be reduced before the Omega could assume a positive value in the optimal production schedule. \n",
    "\n",
    "In other words, the Omega assembly currently does not attract enough profit to be included in the production. Consequently, in order for the Omega system to become a viable addition to production, its profit contribution needs to reduced by -\\$100 or, to put it differently, improved by \\$100.\n",
    "\n",
    "Therefore, the minimum contract price that would initiate the production of the Omega systems is 900 - (-100) = \\$1000."
   ]
  },
  {
   "attachments": {},
   "cell_type": "markdown",
   "metadata": {},
   "source": [
    "c. What is the minimum X70686 availability for which the solution in (a) remains optimal?"
   ]
  },
  {
   "attachments": {},
   "cell_type": "markdown",
   "metadata": {},
   "source": [
    "In order to answer this question, let's consider a sensitivity report for the constraints."
   ]
  },
  {
   "cell_type": "code",
   "execution_count": 12,
   "metadata": {},
   "outputs": [
    {
     "data": {
      "text/html": [
       "<div>\n",
       "<style scoped>\n",
       "    .dataframe tbody tr th:only-of-type {\n",
       "        vertical-align: middle;\n",
       "    }\n",
       "\n",
       "    .dataframe tbody tr th {\n",
       "        vertical-align: top;\n",
       "    }\n",
       "\n",
       "    .dataframe thead th {\n",
       "        text-align: right;\n",
       "    }\n",
       "</style>\n",
       "<table border=\"1\" class=\"dataframe\">\n",
       "  <thead>\n",
       "    <tr style=\"text-align: right;\">\n",
       "      <th></th>\n",
       "      <th>Final Value</th>\n",
       "      <th>Shadow Price</th>\n",
       "      <th>Constraint RHS</th>\n",
       "      <th>Allowable Increase</th>\n",
       "      <th>Allowable Decrease</th>\n",
       "    </tr>\n",
       "    <tr>\n",
       "      <th>Name</th>\n",
       "      <th></th>\n",
       "      <th></th>\n",
       "      <th></th>\n",
       "      <th></th>\n",
       "      <th></th>\n",
       "    </tr>\n",
       "  </thead>\n",
       "  <tbody>\n",
       "    <tr>\n",
       "      <th>c_1</th>\n",
       "      <td>6.0</td>\n",
       "      <td>-0.0</td>\n",
       "      <td>7</td>\n",
       "      <td>1e+20</td>\n",
       "      <td>1.0</td>\n",
       "    </tr>\n",
       "    <tr>\n",
       "      <th>c_2</th>\n",
       "      <td>8.0</td>\n",
       "      <td>200.0</td>\n",
       "      <td>8</td>\n",
       "      <td>4.0</td>\n",
       "      <td>2.0</td>\n",
       "    </tr>\n",
       "    <tr>\n",
       "      <th>c_3</th>\n",
       "      <td>24.0</td>\n",
       "      <td>100.0</td>\n",
       "      <td>24</td>\n",
       "      <td>4.0</td>\n",
       "      <td>8.0</td>\n",
       "    </tr>\n",
       "  </tbody>\n",
       "</table>\n",
       "</div>"
      ],
      "text/plain": [
       "      Final Value  Shadow Price  Constraint RHS  Allowable Increase  \\\n",
       "Name                                                                  \n",
       "c_1           6.0          -0.0               7               1e+20   \n",
       "c_2           8.0         200.0               8                 4.0   \n",
       "c_3          24.0         100.0              24                 4.0   \n",
       "\n",
       "      Allowable Decrease  \n",
       "Name                      \n",
       "c_1                  1.0  \n",
       "c_2                  2.0  \n",
       "c_3                  8.0  "
      ]
     },
     "execution_count": 12,
     "metadata": {},
     "output_type": "execute_result"
    }
   ],
   "source": [
    "# show sensitivity report for constraints\n",
    "sensitivity_report.constraints()"
   ]
  },
  {
   "attachments": {},
   "cell_type": "markdown",
   "metadata": {},
   "source": [
    "From the above sensitivity report, it shows that the allowable decrease of the right-hand side of the first constraint (i.e., the X70686 availability constraint) is 1.\n",
    "\n",
    "Therefore, the minimum X70686 availability for which the solution in (a) remains optimal is 7 - 1 = 6."
   ]
  },
  {
   "attachments": {},
   "cell_type": "markdown",
   "metadata": {},
   "source": [
    "d. Suppose you have the option of improving the profit by instituting one of the following options. Which would be of most value to Pacific Aerospace?\n",
    "\n",
    "i. Receiving, on a daily basis, six additional X70686 chips for \\$3100 \\\n",
    "ii. Utilizing three extra production hours daily at a cost of \\$525 (\\$175 / hr.) \\\n",
    "iii. Utilizing one additional quality check hour daily at a cost of \\$200 (\\$200 / hr.) "
   ]
  },
  {
   "attachments": {},
   "cell_type": "markdown",
   "metadata": {},
   "source": [
    "From the sensitivity report for constraints in (c), it shows that the shadow prices for the X70686 availability, production time, and quality check time are 0, 200, and 100, respectively.\n",
    "\n",
    "This means that Pacific Aerospace would be unwilling to pay more than \\$0, \\$200, and \\$100 for an additional unit of X70686 availability, production time, and quality check time, respectively.\n",
    "\n",
    "In other words, option (i) and (iii) should not be picked as the cost per unit for extra X70686 chips and quality check time exceeds their respective shadow prices.\n",
    "\n",
    "Therefore, option (i), utilizing three extra production hours daily at a cost of \\$525, would be the most value to Pacific Aerospace."
   ]
  }
 ],
 "metadata": {
  "kernelspec": {
   "display_name": "venv",
   "language": "python",
   "name": "python3"
  },
  "language_info": {
   "codemirror_mode": {
    "name": "ipython",
    "version": 3
   },
   "file_extension": ".py",
   "mimetype": "text/x-python",
   "name": "python",
   "nbconvert_exporter": "python",
   "pygments_lexer": "ipython3",
   "version": "3.9.13"
  },
  "orig_nbformat": 4
 },
 "nbformat": 4,
 "nbformat_minor": 2
}
